{
  "nbformat": 4,
  "nbformat_minor": 0,
  "metadata": {
    "colab": {
      "name": "AnaliseBonusVendas.ipynb",
      "provenance": [],
      "collapsed_sections": [],
      "authorship_tag": "ABX9TyOdKV5IwsVhnQWEL1JhetOP",
      "include_colab_link": true
    },
    "kernelspec": {
      "name": "python3",
      "display_name": "Python 3"
    },
    "language_info": {
      "name": "python"
    }
  },
  "cells": [
    {
      "cell_type": "markdown",
      "metadata": {
        "id": "view-in-github",
        "colab_type": "text"
      },
      "source": [
        "<a href=\"https://colab.research.google.com/github/ClaudioFritzen/Analise_de_vendas_com_PY_PANDAS/blob/main/AnaliseBonusVendas.ipynb\" target=\"_parent\"><img src=\"https://colab.research.google.com/assets/colab-badge.svg\" alt=\"Open In Colab\"/></a>"
      ]
    },
    {
      "cell_type": "markdown",
      "source": [
        "* Uma empresa de vendas tem como bonus , premiar seus melhores vendedores dentro de seis meses, e ela quer saber quem foi o vendedor da empresa dela que atingiu a meta de vendas de 55 mil em um unico mes.\n",
        "\n",
        "* Nosso desafio é analisar seis bases de dados de vendas de 1000 venderores de uma empresa.\n",
        "* Nosso desafio é ver quem chegou à uma determinada quantia de venda.... Para esse exemplo sera de 55mil\n",
        "* e quero ser avisado por msm quando algum vendedor atingir essa meta. \n",
        "* O que deve conter na mensagem de texto..\n",
        "\n",
        "\n",
        "1.   Nome da pessoa que atingiu a meta\n",
        "2.   quantia vendida é o mes\n",
        "3.   Numero utilizado para exemplo sera o meu...+5551995066685\n",
        "4.   Utilizaremos a ferramenta Twulio para fazer o envio da mensagem\n",
        "\n"
      ],
      "metadata": {
        "id": "mK41h6u3zrAS"
      }
    },
    {
      "cell_type": "markdown",
      "source": [
        "* Passo a passo da solução\n",
        "\n",
        "\n",
        "1.   Abrir as seis planilhas de Execel\n",
        "2.   Para cada arquivo:\n",
        "\n",
        "*   Verificar se algum valor na coluna Vendas daquele arquivo é maior que 55.000\n",
        "\n",
        "*   Se for maior que 55 mil ... Enviar uma mensagem de texto contendo Nome do vendedor, o mês e as vendas do vendedor.\n",
        "\n",
        "\n",
        "\n",
        "1.  Usaremos a feramenta Twilio para fazer o envio de sms.\n",
        "\n",
        "\n",
        "\n",
        "\n",
        "\n"
      ],
      "metadata": {
        "id": "Vl7LwX8n2w6z"
      }
    },
    {
      "cell_type": "code",
      "source": [
        "!pip install twilio"
      ],
      "metadata": {
        "colab": {
          "base_uri": "https://localhost:8080/"
        },
        "id": "1RFAlEEHX-i2",
        "outputId": "5d4c8e48-0486-46db-9e54-52625086de2a"
      },
      "execution_count": 5,
      "outputs": [
        {
          "output_type": "stream",
          "name": "stdout",
          "text": [
            "Collecting twilio\n",
            "  Downloading twilio-7.8.0-py2.py3-none-any.whl (1.4 MB)\n",
            "\u001b[?25l\r\u001b[K     |▎                               | 10 kB 22.9 MB/s eta 0:00:01\r\u001b[K     |▌                               | 20 kB 28.6 MB/s eta 0:00:01\r\u001b[K     |▊                               | 30 kB 31.1 MB/s eta 0:00:01\r\u001b[K     |█                               | 40 kB 28.6 MB/s eta 0:00:01\r\u001b[K     |█▏                              | 51 kB 22.5 MB/s eta 0:00:01\r\u001b[K     |█▍                              | 61 kB 24.1 MB/s eta 0:00:01\r\u001b[K     |█▊                              | 71 kB 25.4 MB/s eta 0:00:01\r\u001b[K     |██                              | 81 kB 21.6 MB/s eta 0:00:01\r\u001b[K     |██▏                             | 92 kB 22.9 MB/s eta 0:00:01\r\u001b[K     |██▍                             | 102 kB 24.5 MB/s eta 0:00:01\r\u001b[K     |██▋                             | 112 kB 24.5 MB/s eta 0:00:01\r\u001b[K     |██▉                             | 122 kB 24.5 MB/s eta 0:00:01\r\u001b[K     |███▏                            | 133 kB 24.5 MB/s eta 0:00:01\r\u001b[K     |███▍                            | 143 kB 24.5 MB/s eta 0:00:01\r\u001b[K     |███▋                            | 153 kB 24.5 MB/s eta 0:00:01\r\u001b[K     |███▉                            | 163 kB 24.5 MB/s eta 0:00:01\r\u001b[K     |████                            | 174 kB 24.5 MB/s eta 0:00:01\r\u001b[K     |████▎                           | 184 kB 24.5 MB/s eta 0:00:01\r\u001b[K     |████▌                           | 194 kB 24.5 MB/s eta 0:00:01\r\u001b[K     |████▉                           | 204 kB 24.5 MB/s eta 0:00:01\r\u001b[K     |█████                           | 215 kB 24.5 MB/s eta 0:00:01\r\u001b[K     |█████▎                          | 225 kB 24.5 MB/s eta 0:00:01\r\u001b[K     |█████▌                          | 235 kB 24.5 MB/s eta 0:00:01\r\u001b[K     |█████▊                          | 245 kB 24.5 MB/s eta 0:00:01\r\u001b[K     |██████                          | 256 kB 24.5 MB/s eta 0:00:01\r\u001b[K     |██████▎                         | 266 kB 24.5 MB/s eta 0:00:01\r\u001b[K     |██████▌                         | 276 kB 24.5 MB/s eta 0:00:01\r\u001b[K     |██████▊                         | 286 kB 24.5 MB/s eta 0:00:01\r\u001b[K     |███████                         | 296 kB 24.5 MB/s eta 0:00:01\r\u001b[K     |███████▏                        | 307 kB 24.5 MB/s eta 0:00:01\r\u001b[K     |███████▍                        | 317 kB 24.5 MB/s eta 0:00:01\r\u001b[K     |███████▋                        | 327 kB 24.5 MB/s eta 0:00:01\r\u001b[K     |████████                        | 337 kB 24.5 MB/s eta 0:00:01\r\u001b[K     |████████▏                       | 348 kB 24.5 MB/s eta 0:00:01\r\u001b[K     |████████▍                       | 358 kB 24.5 MB/s eta 0:00:01\r\u001b[K     |████████▋                       | 368 kB 24.5 MB/s eta 0:00:01\r\u001b[K     |████████▉                       | 378 kB 24.5 MB/s eta 0:00:01\r\u001b[K     |█████████                       | 389 kB 24.5 MB/s eta 0:00:01\r\u001b[K     |█████████▍                      | 399 kB 24.5 MB/s eta 0:00:01\r\u001b[K     |█████████▋                      | 409 kB 24.5 MB/s eta 0:00:01\r\u001b[K     |█████████▉                      | 419 kB 24.5 MB/s eta 0:00:01\r\u001b[K     |██████████                      | 430 kB 24.5 MB/s eta 0:00:01\r\u001b[K     |██████████▎                     | 440 kB 24.5 MB/s eta 0:00:01\r\u001b[K     |██████████▌                     | 450 kB 24.5 MB/s eta 0:00:01\r\u001b[K     |██████████▉                     | 460 kB 24.5 MB/s eta 0:00:01\r\u001b[K     |███████████                     | 471 kB 24.5 MB/s eta 0:00:01\r\u001b[K     |███████████▎                    | 481 kB 24.5 MB/s eta 0:00:01\r\u001b[K     |███████████▌                    | 491 kB 24.5 MB/s eta 0:00:01\r\u001b[K     |███████████▊                    | 501 kB 24.5 MB/s eta 0:00:01\r\u001b[K     |████████████                    | 512 kB 24.5 MB/s eta 0:00:01\r\u001b[K     |████████████▏                   | 522 kB 24.5 MB/s eta 0:00:01\r\u001b[K     |████████████▌                   | 532 kB 24.5 MB/s eta 0:00:01\r\u001b[K     |████████████▊                   | 542 kB 24.5 MB/s eta 0:00:01\r\u001b[K     |█████████████                   | 552 kB 24.5 MB/s eta 0:00:01\r\u001b[K     |█████████████▏                  | 563 kB 24.5 MB/s eta 0:00:01\r\u001b[K     |█████████████▍                  | 573 kB 24.5 MB/s eta 0:00:01\r\u001b[K     |█████████████▋                  | 583 kB 24.5 MB/s eta 0:00:01\r\u001b[K     |██████████████                  | 593 kB 24.5 MB/s eta 0:00:01\r\u001b[K     |██████████████▏                 | 604 kB 24.5 MB/s eta 0:00:01\r\u001b[K     |██████████████▍                 | 614 kB 24.5 MB/s eta 0:00:01\r\u001b[K     |██████████████▋                 | 624 kB 24.5 MB/s eta 0:00:01\r\u001b[K     |██████████████▉                 | 634 kB 24.5 MB/s eta 0:00:01\r\u001b[K     |███████████████                 | 645 kB 24.5 MB/s eta 0:00:01\r\u001b[K     |███████████████▎                | 655 kB 24.5 MB/s eta 0:00:01\r\u001b[K     |███████████████▋                | 665 kB 24.5 MB/s eta 0:00:01\r\u001b[K     |███████████████▉                | 675 kB 24.5 MB/s eta 0:00:01\r\u001b[K     |████████████████                | 686 kB 24.5 MB/s eta 0:00:01\r\u001b[K     |████████████████▎               | 696 kB 24.5 MB/s eta 0:00:01\r\u001b[K     |████████████████▌               | 706 kB 24.5 MB/s eta 0:00:01\r\u001b[K     |████████████████▊               | 716 kB 24.5 MB/s eta 0:00:01\r\u001b[K     |█████████████████               | 727 kB 24.5 MB/s eta 0:00:01\r\u001b[K     |█████████████████▎              | 737 kB 24.5 MB/s eta 0:00:01\r\u001b[K     |█████████████████▌              | 747 kB 24.5 MB/s eta 0:00:01\r\u001b[K     |█████████████████▊              | 757 kB 24.5 MB/s eta 0:00:01\r\u001b[K     |██████████████████              | 768 kB 24.5 MB/s eta 0:00:01\r\u001b[K     |██████████████████▏             | 778 kB 24.5 MB/s eta 0:00:01\r\u001b[K     |██████████████████▍             | 788 kB 24.5 MB/s eta 0:00:01\r\u001b[K     |██████████████████▊             | 798 kB 24.5 MB/s eta 0:00:01\r\u001b[K     |███████████████████             | 808 kB 24.5 MB/s eta 0:00:01\r\u001b[K     |███████████████████▏            | 819 kB 24.5 MB/s eta 0:00:01\r\u001b[K     |███████████████████▍            | 829 kB 24.5 MB/s eta 0:00:01\r\u001b[K     |███████████████████▋            | 839 kB 24.5 MB/s eta 0:00:01\r\u001b[K     |███████████████████▉            | 849 kB 24.5 MB/s eta 0:00:01\r\u001b[K     |████████████████████▏           | 860 kB 24.5 MB/s eta 0:00:01\r\u001b[K     |████████████████████▍           | 870 kB 24.5 MB/s eta 0:00:01\r\u001b[K     |████████████████████▋           | 880 kB 24.5 MB/s eta 0:00:01\r\u001b[K     |████████████████████▉           | 890 kB 24.5 MB/s eta 0:00:01\r\u001b[K     |█████████████████████           | 901 kB 24.5 MB/s eta 0:00:01\r\u001b[K     |█████████████████████▎          | 911 kB 24.5 MB/s eta 0:00:01\r\u001b[K     |█████████████████████▋          | 921 kB 24.5 MB/s eta 0:00:01\r\u001b[K     |█████████████████████▉          | 931 kB 24.5 MB/s eta 0:00:01\r\u001b[K     |██████████████████████          | 942 kB 24.5 MB/s eta 0:00:01\r\u001b[K     |██████████████████████▎         | 952 kB 24.5 MB/s eta 0:00:01\r\u001b[K     |██████████████████████▌         | 962 kB 24.5 MB/s eta 0:00:01\r\u001b[K     |██████████████████████▊         | 972 kB 24.5 MB/s eta 0:00:01\r\u001b[K     |███████████████████████         | 983 kB 24.5 MB/s eta 0:00:01\r\u001b[K     |███████████████████████▎        | 993 kB 24.5 MB/s eta 0:00:01\r\u001b[K     |███████████████████████▌        | 1.0 MB 24.5 MB/s eta 0:00:01\r\u001b[K     |███████████████████████▊        | 1.0 MB 24.5 MB/s eta 0:00:01\r\u001b[K     |████████████████████████        | 1.0 MB 24.5 MB/s eta 0:00:01\r\u001b[K     |████████████████████████▏       | 1.0 MB 24.5 MB/s eta 0:00:01\r\u001b[K     |████████████████████████▍       | 1.0 MB 24.5 MB/s eta 0:00:01\r\u001b[K     |████████████████████████▊       | 1.1 MB 24.5 MB/s eta 0:00:01\r\u001b[K     |█████████████████████████       | 1.1 MB 24.5 MB/s eta 0:00:01\r\u001b[K     |█████████████████████████▏      | 1.1 MB 24.5 MB/s eta 0:00:01\r\u001b[K     |█████████████████████████▍      | 1.1 MB 24.5 MB/s eta 0:00:01\r\u001b[K     |█████████████████████████▋      | 1.1 MB 24.5 MB/s eta 0:00:01\r\u001b[K     |█████████████████████████▉      | 1.1 MB 24.5 MB/s eta 0:00:01\r\u001b[K     |██████████████████████████      | 1.1 MB 24.5 MB/s eta 0:00:01\r\u001b[K     |██████████████████████████▍     | 1.1 MB 24.5 MB/s eta 0:00:01\r\u001b[K     |██████████████████████████▋     | 1.1 MB 24.5 MB/s eta 0:00:01\r\u001b[K     |██████████████████████████▉     | 1.1 MB 24.5 MB/s eta 0:00:01\r\u001b[K     |███████████████████████████     | 1.2 MB 24.5 MB/s eta 0:00:01\r\u001b[K     |███████████████████████████▎    | 1.2 MB 24.5 MB/s eta 0:00:01\r\u001b[K     |███████████████████████████▌    | 1.2 MB 24.5 MB/s eta 0:00:01\r\u001b[K     |███████████████████████████▉    | 1.2 MB 24.5 MB/s eta 0:00:01\r\u001b[K     |████████████████████████████    | 1.2 MB 24.5 MB/s eta 0:00:01\r\u001b[K     |████████████████████████████▎   | 1.2 MB 24.5 MB/s eta 0:00:01\r\u001b[K     |████████████████████████████▌   | 1.2 MB 24.5 MB/s eta 0:00:01\r\u001b[K     |████████████████████████████▊   | 1.2 MB 24.5 MB/s eta 0:00:01\r\u001b[K     |█████████████████████████████   | 1.2 MB 24.5 MB/s eta 0:00:01\r\u001b[K     |█████████████████████████████▎  | 1.2 MB 24.5 MB/s eta 0:00:01\r\u001b[K     |█████████████████████████████▌  | 1.3 MB 24.5 MB/s eta 0:00:01\r\u001b[K     |█████████████████████████████▊  | 1.3 MB 24.5 MB/s eta 0:00:01\r\u001b[K     |██████████████████████████████  | 1.3 MB 24.5 MB/s eta 0:00:01\r\u001b[K     |██████████████████████████████▏ | 1.3 MB 24.5 MB/s eta 0:00:01\r\u001b[K     |██████████████████████████████▍ | 1.3 MB 24.5 MB/s eta 0:00:01\r\u001b[K     |██████████████████████████████▋ | 1.3 MB 24.5 MB/s eta 0:00:01\r\u001b[K     |███████████████████████████████ | 1.3 MB 24.5 MB/s eta 0:00:01\r\u001b[K     |███████████████████████████████▏| 1.3 MB 24.5 MB/s eta 0:00:01\r\u001b[K     |███████████████████████████████▍| 1.3 MB 24.5 MB/s eta 0:00:01\r\u001b[K     |███████████████████████████████▋| 1.4 MB 24.5 MB/s eta 0:00:01\r\u001b[K     |███████████████████████████████▉| 1.4 MB 24.5 MB/s eta 0:00:01\r\u001b[K     |████████████████████████████████| 1.4 MB 24.5 MB/s \n",
            "\u001b[?25hCollecting PyJWT<3.0.0,>=2.0.0\n",
            "  Downloading PyJWT-2.3.0-py3-none-any.whl (16 kB)\n",
            "Requirement already satisfied: requests>=2.0.0 in /usr/local/lib/python3.7/dist-packages (from twilio) (2.23.0)\n",
            "Requirement already satisfied: pytz in /usr/local/lib/python3.7/dist-packages (from twilio) (2018.9)\n",
            "Requirement already satisfied: chardet<4,>=3.0.2 in /usr/local/lib/python3.7/dist-packages (from requests>=2.0.0->twilio) (3.0.4)\n",
            "Requirement already satisfied: urllib3!=1.25.0,!=1.25.1,<1.26,>=1.21.1 in /usr/local/lib/python3.7/dist-packages (from requests>=2.0.0->twilio) (1.24.3)\n",
            "Requirement already satisfied: certifi>=2017.4.17 in /usr/local/lib/python3.7/dist-packages (from requests>=2.0.0->twilio) (2021.10.8)\n",
            "Requirement already satisfied: idna<3,>=2.5 in /usr/local/lib/python3.7/dist-packages (from requests>=2.0.0->twilio) (2.10)\n",
            "Installing collected packages: PyJWT, twilio\n",
            "Successfully installed PyJWT-2.3.0 twilio-7.8.0\n"
          ]
        }
      ]
    },
    {
      "cell_type": "code",
      "execution_count": 14,
      "metadata": {
        "id": "DQKAbB9PyXi2"
      },
      "outputs": [],
      "source": [
        "# local para importações \n",
        "# pandas\n",
        "# openpyxl\n",
        "# twilio\n",
        "\n",
        "import pandas as pd \n",
        "\n",
        "import os\n",
        "from twilio.rest import Client\n"
      ]
    },
    {
      "cell_type": "code",
      "source": [
        "# Abrir os 6 arquivos em excel\n",
        "\n",
        "# como abrir apenas uma planilha\n",
        "tabela_vendas = pd.read_excel('janeiro.xlsx')\n",
        "display(tabela_vendas)\n",
        "# dentro do parenteses coloca a planilia que deseja\n",
        "\n",
        "# imagina agora se tivesse que abrimos todas as planilia uma por uma, seria muito trabalhoso. \n",
        "# Por isso usaremos um vetor / array para fazermos uma lista utilizaremos [ ] conxentes\n",
        "\n",
        "# usaremos o for para fazer um loop na lista.\n"
      ],
      "metadata": {
        "id": "yqSA4eR84qn4"
      },
      "execution_count": null,
      "outputs": []
    },
    {
      "cell_type": "code",
      "source": [
        "# criamos a lista com []\n",
        "lista_meses = ['janeiro', 'fevereiro', 'março', 'abril', 'maio', 'junho'] \n",
        "# iremos criar uma lista com os seis meses\n",
        "\n",
        "for mes in lista_meses:\n",
        "  #print(mes)\n",
        "# como fazer para deixar o () mais dinamico \n",
        "  tabela_vendas = pd.read_excel(f'{mes}.xlsx')\n",
        "  #print(tabela_vendas)\n",
        "# Para cada arquivo\n",
        "# verificar se algum valor na coluna de Vendas daquele arquivo é maior que 55.00\n",
        "\n",
        " # se dentro da coluna vendas for maior que 55.000\n",
        "  if (tabela_vendas['Vendas'] > 55000).any():\n",
        "    vendedor = tabela_vendas.loc[tabela_vendas['Vendas'] > 55000, 'Vendedor'].values[0]\n",
        "    vendas = tabela_vendas.loc[tabela_vendas['Vendas'] > 55000, 'Vendas'].values[0]\n",
        "\n",
        "    print(f'No mês {mes} alguém bateu a meta. Vendedor {vendedor}. Total de vendas: {vendas} ')\n",
        "\n",
        "\n"
      ],
      "metadata": {
        "id": "KXT7SH-H7nft",
        "colab": {
          "base_uri": "https://localhost:8080/"
        },
        "outputId": "a555798c-39a2-436d-a251-29bc0ef8c2cc"
      },
      "execution_count": 3,
      "outputs": [
        {
          "output_type": "stream",
          "name": "stdout",
          "text": [
            "No mês maio alguém bateu a meta. Vendedor Hash. Total de vendas: 57312 \n"
          ]
        }
      ]
    },
    {
      "cell_type": "code",
      "source": [
        "account_sid = 'ACcdd15a7965c65b7ad260ea4354ca3d1a' \n",
        "auth_token = '[81356a8a66f44be6b29add0bbf1bb114]' \n",
        "client = Client(account_sid, auth_token) \n",
        "\n",
        "for mes in lista_meses:\n",
        "\n",
        "  tabela_vendas = pd.read_excel(f'{mes}.xlsx')\n",
        "\n",
        "  if (tabela_vendas['Vendas'] > 55000).any():\n",
        "      vendedor = tabela_vendas.loc[tabela_vendas['Vendas'] > 55000, 'Vendedor'].values[0]\n",
        "      vendas = tabela_vendas.loc[tabela_vendas['Vendas'] > 55000, 'Vendas'].values[0]\n",
        "      message = client.messages.create(\n",
        "          body=f'No mês {mes} alguém bateu a meta. Vendedor {vendedor}. Total de vendas: {vendas}',\n",
        "          from_='+19894049236',\n",
        "          to='+5551995066685'\n",
        "      )\n",
        "\n",
        "      print(message.sid)\n",
        "\n",
        "\n",
        "\n",
        "\n",
        "\n",
        "# Find your Account SID and Auth Token at twilio.com/console\n",
        "# and set the environment variables. See http://twil.io/secure\n",
        "#account_sid = os.environ['ACcdd15a7965c65b7ad260ea4354ca3d1a']\n",
        "#auth_token = os.environ['81356a8a66f44be6b29add0bbf1bb114']\n",
        "#client = Client(account_sid, auth_token)\n",
        "\n",
        "\n",
        " \n",
        " \n",
        " \n",
        "\n"
      ],
      "metadata": {
        "id": "n5M1w85P_LgH",
        "colab": {
          "base_uri": "https://localhost:8080/",
          "height": 398
        },
        "outputId": "4dccfb28-79d3-4a17-e2e6-13e25785fcb0"
      },
      "execution_count": 15,
      "outputs": [
        {
          "output_type": "error",
          "ename": "TwilioRestException",
          "evalue": "ignored",
          "traceback": [
            "\u001b[0;31m---------------------------------------------------------------------------\u001b[0m",
            "\u001b[0;31mTwilioRestException\u001b[0m                       Traceback (most recent call last)",
            "\u001b[0;32m<ipython-input-15-a3f1dcbcf60f>\u001b[0m in \u001b[0;36m<module>\u001b[0;34m()\u001b[0m\n\u001b[1;32m     13\u001b[0m           \u001b[0mbody\u001b[0m\u001b[0;34m=\u001b[0m\u001b[0;34mf'No mês {mes} alguém bateu a meta. Vendedor {vendedor}. Total de vendas: {vendas}'\u001b[0m\u001b[0;34m,\u001b[0m\u001b[0;34m\u001b[0m\u001b[0;34m\u001b[0m\u001b[0m\n\u001b[1;32m     14\u001b[0m           \u001b[0mfrom_\u001b[0m\u001b[0;34m=\u001b[0m\u001b[0;34m'+19894049236'\u001b[0m\u001b[0;34m,\u001b[0m\u001b[0;34m\u001b[0m\u001b[0;34m\u001b[0m\u001b[0m\n\u001b[0;32m---> 15\u001b[0;31m           \u001b[0mto\u001b[0m\u001b[0;34m=\u001b[0m\u001b[0;34m'+5551995066685'\u001b[0m\u001b[0;34m\u001b[0m\u001b[0;34m\u001b[0m\u001b[0m\n\u001b[0m\u001b[1;32m     16\u001b[0m       )\n\u001b[1;32m     17\u001b[0m \u001b[0;34m\u001b[0m\u001b[0m\n",
            "\u001b[0;32m/usr/local/lib/python3.7/dist-packages/twilio/rest/api/v2010/account/message/__init__.py\u001b[0m in \u001b[0;36mcreate\u001b[0;34m(self, to, status_callback, application_sid, max_price, provide_feedback, attempt, validity_period, force_delivery, content_retention, address_retention, smart_encoded, persistent_action, schedule_type, send_at, send_as_mms, from_, messaging_service_sid, body, media_url)\u001b[0m\n\u001b[1;32m     93\u001b[0m         })\n\u001b[1;32m     94\u001b[0m \u001b[0;34m\u001b[0m\u001b[0m\n\u001b[0;32m---> 95\u001b[0;31m         \u001b[0mpayload\u001b[0m \u001b[0;34m=\u001b[0m \u001b[0mself\u001b[0m\u001b[0;34m.\u001b[0m\u001b[0m_version\u001b[0m\u001b[0;34m.\u001b[0m\u001b[0mcreate\u001b[0m\u001b[0;34m(\u001b[0m\u001b[0mmethod\u001b[0m\u001b[0;34m=\u001b[0m\u001b[0;34m'POST'\u001b[0m\u001b[0;34m,\u001b[0m \u001b[0muri\u001b[0m\u001b[0;34m=\u001b[0m\u001b[0mself\u001b[0m\u001b[0;34m.\u001b[0m\u001b[0m_uri\u001b[0m\u001b[0;34m,\u001b[0m \u001b[0mdata\u001b[0m\u001b[0;34m=\u001b[0m\u001b[0mdata\u001b[0m\u001b[0;34m,\u001b[0m \u001b[0;34m)\u001b[0m\u001b[0;34m\u001b[0m\u001b[0;34m\u001b[0m\u001b[0m\n\u001b[0m\u001b[1;32m     96\u001b[0m \u001b[0;34m\u001b[0m\u001b[0m\n\u001b[1;32m     97\u001b[0m         \u001b[0;32mreturn\u001b[0m \u001b[0mMessageInstance\u001b[0m\u001b[0;34m(\u001b[0m\u001b[0mself\u001b[0m\u001b[0;34m.\u001b[0m\u001b[0m_version\u001b[0m\u001b[0;34m,\u001b[0m \u001b[0mpayload\u001b[0m\u001b[0;34m,\u001b[0m \u001b[0maccount_sid\u001b[0m\u001b[0;34m=\u001b[0m\u001b[0mself\u001b[0m\u001b[0;34m.\u001b[0m\u001b[0m_solution\u001b[0m\u001b[0;34m[\u001b[0m\u001b[0;34m'account_sid'\u001b[0m\u001b[0;34m]\u001b[0m\u001b[0;34m,\u001b[0m \u001b[0;34m)\u001b[0m\u001b[0;34m\u001b[0m\u001b[0;34m\u001b[0m\u001b[0m\n",
            "\u001b[0;32m/usr/local/lib/python3.7/dist-packages/twilio/base/version.py\u001b[0m in \u001b[0;36mcreate\u001b[0;34m(self, method, uri, params, data, headers, auth, timeout, allow_redirects)\u001b[0m\n\u001b[1;32m    203\u001b[0m \u001b[0;34m\u001b[0m\u001b[0m\n\u001b[1;32m    204\u001b[0m         \u001b[0;32mif\u001b[0m \u001b[0mresponse\u001b[0m\u001b[0;34m.\u001b[0m\u001b[0mstatus_code\u001b[0m \u001b[0;34m<\u001b[0m \u001b[0;36m200\u001b[0m \u001b[0;32mor\u001b[0m \u001b[0mresponse\u001b[0m\u001b[0;34m.\u001b[0m\u001b[0mstatus_code\u001b[0m \u001b[0;34m>=\u001b[0m \u001b[0;36m300\u001b[0m\u001b[0;34m:\u001b[0m\u001b[0;34m\u001b[0m\u001b[0;34m\u001b[0m\u001b[0m\n\u001b[0;32m--> 205\u001b[0;31m             \u001b[0;32mraise\u001b[0m \u001b[0mself\u001b[0m\u001b[0;34m.\u001b[0m\u001b[0mexception\u001b[0m\u001b[0;34m(\u001b[0m\u001b[0mmethod\u001b[0m\u001b[0;34m,\u001b[0m \u001b[0muri\u001b[0m\u001b[0;34m,\u001b[0m \u001b[0mresponse\u001b[0m\u001b[0;34m,\u001b[0m \u001b[0;34m'Unable to create record'\u001b[0m\u001b[0;34m)\u001b[0m\u001b[0;34m\u001b[0m\u001b[0;34m\u001b[0m\u001b[0m\n\u001b[0m\u001b[1;32m    206\u001b[0m \u001b[0;34m\u001b[0m\u001b[0m\n\u001b[1;32m    207\u001b[0m         \u001b[0;32mreturn\u001b[0m \u001b[0mjson\u001b[0m\u001b[0;34m.\u001b[0m\u001b[0mloads\u001b[0m\u001b[0;34m(\u001b[0m\u001b[0mresponse\u001b[0m\u001b[0;34m.\u001b[0m\u001b[0mtext\u001b[0m\u001b[0;34m)\u001b[0m\u001b[0;34m\u001b[0m\u001b[0;34m\u001b[0m\u001b[0m\n",
            "\u001b[0;31mTwilioRestException\u001b[0m: HTTP 401 error: Unable to create record: Authenticate"
          ]
        }
      ]
    }
  ]
}